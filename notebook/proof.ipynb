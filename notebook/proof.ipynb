{
 "cells": [
  {
   "cell_type": "code",
   "execution_count": 1,
   "metadata": {},
   "outputs": [],
   "source": [
    "import pathlib \n",
    "import os\n",
    "import numpy as np\n",
    "import pandas as pd \n",
    "import matplotlib\n",
    "import matplotlib.pyplot as plt\n",
    "matplotlib.style.use('ggplot')\n",
    "import seaborn as sns \n",
    "%matplotlib inline "
   ]
  },
  {
   "cell_type": "code",
   "execution_count": null,
   "metadata": {},
   "outputs": [],
   "source": [
    "df = pd.read_csv('C:/Users/miki/Desktop/VSML/cluster-machine-learning/data/raw/data.csv')"
   ]
  },
  {
   "cell_type": "code",
   "execution_count": 51,
   "metadata": {},
   "outputs": [],
   "source": [
    "# scaling\n",
    "# labelencoding\n",
    "# splitting\n",
    "\n",
    "def scale_label(df, scale = False):\n",
    "    from sklearn.preprocessing import MinMaxScaler, LabelEncoder\n",
    "    X = df.drop(['Districts'], axis = 1)\n",
    "    y = df['Districts']\n",
    "    if scale == False:\n",
    "        le = LabelEncoder()\n",
    "        ylabel = le.fit_transform(y)\n",
    "        scaler = MinMaxScaler()\n",
    "        Xlabel = scaler.fit_transform(X)\n",
    "        dtf = pd.concat([pd.DataFrame(Xlabel), pd.DataFrame(ylabel)], axis = 1, join = 'inner')\n",
    "    return dtf.to_csv('C:/Users/miki/Desktop/VSML/cluster-machine-learning/data/interim/interim.csv', index = False)"
   ]
  },
  {
   "cell_type": "code",
   "execution_count": 52,
   "metadata": {},
   "outputs": [],
   "source": [
    "scale_label(df)"
   ]
  },
  {
   "cell_type": "code",
   "execution_count": 8,
   "metadata": {},
   "outputs": [],
   "source": [
    "data = pd.read_csv('C:/Users/miki/Desktop/VSML/cluster-machine-learning/data/interim/interim.csv')"
   ]
  },
  {
   "cell_type": "code",
   "execution_count": 9,
   "metadata": {},
   "outputs": [
    {
     "data": {
      "text/html": [
       "<div>\n",
       "<style scoped>\n",
       "    .dataframe tbody tr th:only-of-type {\n",
       "        vertical-align: middle;\n",
       "    }\n",
       "\n",
       "    .dataframe tbody tr th {\n",
       "        vertical-align: top;\n",
       "    }\n",
       "\n",
       "    .dataframe thead th {\n",
       "        text-align: right;\n",
       "    }\n",
       "</style>\n",
       "<table border=\"1\" class=\"dataframe\">\n",
       "  <thead>\n",
       "    <tr style=\"text-align: right;\">\n",
       "      <th></th>\n",
       "      <th>0</th>\n",
       "      <th>1</th>\n",
       "      <th>2</th>\n",
       "      <th>0.1</th>\n",
       "    </tr>\n",
       "  </thead>\n",
       "  <tbody>\n",
       "    <tr>\n",
       "      <th>0</th>\n",
       "      <td>0.534335</td>\n",
       "      <td>0.620523</td>\n",
       "      <td>0.617892</td>\n",
       "      <td>1</td>\n",
       "    </tr>\n",
       "    <tr>\n",
       "      <th>1</th>\n",
       "      <td>0.206009</td>\n",
       "      <td>0.320426</td>\n",
       "      <td>0.733131</td>\n",
       "      <td>2</td>\n",
       "    </tr>\n",
       "    <tr>\n",
       "      <th>2</th>\n",
       "      <td>0.239270</td>\n",
       "      <td>0.751210</td>\n",
       "      <td>0.653525</td>\n",
       "      <td>1</td>\n",
       "    </tr>\n",
       "    <tr>\n",
       "      <th>3</th>\n",
       "      <td>0.438841</td>\n",
       "      <td>0.775411</td>\n",
       "      <td>0.684610</td>\n",
       "      <td>1</td>\n",
       "    </tr>\n",
       "    <tr>\n",
       "      <th>4</th>\n",
       "      <td>0.331545</td>\n",
       "      <td>0.656341</td>\n",
       "      <td>0.620925</td>\n",
       "      <td>1</td>\n",
       "    </tr>\n",
       "    <tr>\n",
       "      <th>...</th>\n",
       "      <td>...</td>\n",
       "      <td>...</td>\n",
       "      <td>...</td>\n",
       "      <td>...</td>\n",
       "    </tr>\n",
       "    <tr>\n",
       "      <th>4495</th>\n",
       "      <td>0.157725</td>\n",
       "      <td>0.594385</td>\n",
       "      <td>0.830174</td>\n",
       "      <td>2</td>\n",
       "    </tr>\n",
       "    <tr>\n",
       "      <th>4496</th>\n",
       "      <td>0.586910</td>\n",
       "      <td>0.380445</td>\n",
       "      <td>0.136467</td>\n",
       "      <td>0</td>\n",
       "    </tr>\n",
       "    <tr>\n",
       "      <th>4497</th>\n",
       "      <td>0.909871</td>\n",
       "      <td>0.289448</td>\n",
       "      <td>0.070508</td>\n",
       "      <td>0</td>\n",
       "    </tr>\n",
       "    <tr>\n",
       "      <th>4498</th>\n",
       "      <td>0.567597</td>\n",
       "      <td>0.139400</td>\n",
       "      <td>0.254738</td>\n",
       "      <td>0</td>\n",
       "    </tr>\n",
       "    <tr>\n",
       "      <th>4499</th>\n",
       "      <td>0.672747</td>\n",
       "      <td>0.788964</td>\n",
       "      <td>0.534496</td>\n",
       "      <td>1</td>\n",
       "    </tr>\n",
       "  </tbody>\n",
       "</table>\n",
       "<p>4500 rows × 4 columns</p>\n",
       "</div>"
      ],
      "text/plain": [
       "             0         1         2  0.1\n",
       "0     0.534335  0.620523  0.617892    1\n",
       "1     0.206009  0.320426  0.733131    2\n",
       "2     0.239270  0.751210  0.653525    1\n",
       "3     0.438841  0.775411  0.684610    1\n",
       "4     0.331545  0.656341  0.620925    1\n",
       "...        ...       ...       ...  ...\n",
       "4495  0.157725  0.594385  0.830174    2\n",
       "4496  0.586910  0.380445  0.136467    0\n",
       "4497  0.909871  0.289448  0.070508    0\n",
       "4498  0.567597  0.139400  0.254738    0\n",
       "4499  0.672747  0.788964  0.534496    1\n",
       "\n",
       "[4500 rows x 4 columns]"
      ]
     },
     "execution_count": 9,
     "metadata": {},
     "output_type": "execute_result"
    }
   ],
   "source": [
    "data"
   ]
  },
  {
   "cell_type": "code",
   "execution_count": 25,
   "metadata": {},
   "outputs": [],
   "source": [
    "def component_no(data):\n",
    "    \"\"\"_summary_\n",
    "\n",
    "    Args:\n",
    "        data (_type_): _description_\n",
    "    \"\"\"\n",
    "    # summarizing of data with multiple features are with covarience and correlation coefficient\n",
    "    # for single variable the summaries are with mean, mode and standard deviations\n",
    "    import matplotlib.pyplot as plt\n",
    "    import pandas as pd \n",
    "    import numpy as np\n",
    "    from sklearn.decomposition import PCA\n",
    "    data = pd.read_csv('C:/Users/miki/Desktop/VSML/cluster-machine-learning/data/interim/interim.csv')\n",
    "    data = data.rename({'0':'water_prc', '1':'elect_prc', '2':'tel_prc', '0.1':'district'}, axis = 1)\n",
    "    input = data.drop(['district'], axis = 1)\n",
    "    pca = PCA().fit(input)\n",
    "    plt.figure(figsize = (10, 4))\n",
    "    components = np.arange(1, 4, 1)\n",
    "    variance = np.cumsum(pca.explained_variance_ratio_)\n",
    "    ylim = (0.0, 1.1)\n",
    "    plt.plot(components, variance, marker = 'o', linestyle = '--', color = 'r')\n",
    "    plt.xticks(np.arange(1, 4, step=1))\n",
    "    # plt.xlabel(('Number of Components'))\n",
    "    # plt.ylabel(str(\"% Cumulative Variance\"))\n",
    "    plt.axhline(y = 0.95, color = 'b', linestyle = '-')\n",
    "    plt.text(0.5, 0.93, '95% Variane cut-off', color = 'r', fontsize = 10)\n",
    "    return plt.show()\n",
    "    \n",
    "    "
   ]
  },
  {
   "cell_type": "code",
   "execution_count": 26,
   "metadata": {},
   "outputs": [
    {
     "data": {
      "image/png": "[encoded data removed]",
      "text/plain": [
       "<Figure size 720x288 with 1 Axes>"
      ]
     },
     "metadata": {
      "needs_background": "light"
     },
     "output_type": "display_data"
    }
   ],
   "source": [
    "component_no(data =pd.read_csv('C:/Users/miki/Desktop/VSML/cluster-machine-learning/data/interim/interim.csv'))"
   ]
  },
  {
   "cell_type": "code",
   "execution_count": 55,
   "metadata": {},
   "outputs": [],
   "source": [
    "df = pd.read_csv('C:/Users/miki/Desktop/VSML/cluster-machine-learning/data/interim/interim.csv')"
   ]
  },
  {
   "cell_type": "code",
   "execution_count": 60,
   "metadata": {},
   "outputs": [
    {
     "name": "stdout",
     "output_type": "stream",
     "text": [
      "Index(['0', '1', '2', '0.1'], dtype='object')\n"
     ]
    }
   ],
   "source": [
    "print(df.columns)"
   ]
  },
  {
   "cell_type": "code",
   "execution_count": 64,
   "metadata": {},
   "outputs": [
    {
     "data": {
      "text/html": [
       "<div>\n",
       "<style scoped>\n",
       "    .dataframe tbody tr th:only-of-type {\n",
       "        vertical-align: middle;\n",
       "    }\n",
       "\n",
       "    .dataframe tbody tr th {\n",
       "        vertical-align: top;\n",
       "    }\n",
       "\n",
       "    .dataframe thead th {\n",
       "        text-align: right;\n",
       "    }\n",
       "</style>\n",
       "<table border=\"1\" class=\"dataframe\">\n",
       "  <thead>\n",
       "    <tr style=\"text-align: right;\">\n",
       "      <th></th>\n",
       "      <th>water_prc</th>\n",
       "      <th>elect_prc</th>\n",
       "      <th>tel_prc</th>\n",
       "      <th>district</th>\n",
       "    </tr>\n",
       "  </thead>\n",
       "  <tbody>\n",
       "    <tr>\n",
       "      <th>0</th>\n",
       "      <td>0.534335</td>\n",
       "      <td>0.620523</td>\n",
       "      <td>0.617892</td>\n",
       "      <td>1</td>\n",
       "    </tr>\n",
       "    <tr>\n",
       "      <th>1</th>\n",
       "      <td>0.206009</td>\n",
       "      <td>0.320426</td>\n",
       "      <td>0.733131</td>\n",
       "      <td>2</td>\n",
       "    </tr>\n",
       "    <tr>\n",
       "      <th>2</th>\n",
       "      <td>0.239270</td>\n",
       "      <td>0.751210</td>\n",
       "      <td>0.653525</td>\n",
       "      <td>1</td>\n",
       "    </tr>\n",
       "    <tr>\n",
       "      <th>3</th>\n",
       "      <td>0.438841</td>\n",
       "      <td>0.775411</td>\n",
       "      <td>0.684610</td>\n",
       "      <td>1</td>\n",
       "    </tr>\n",
       "    <tr>\n",
       "      <th>4</th>\n",
       "      <td>0.331545</td>\n",
       "      <td>0.656341</td>\n",
       "      <td>0.620925</td>\n",
       "      <td>1</td>\n",
       "    </tr>\n",
       "    <tr>\n",
       "      <th>...</th>\n",
       "      <td>...</td>\n",
       "      <td>...</td>\n",
       "      <td>...</td>\n",
       "      <td>...</td>\n",
       "    </tr>\n",
       "    <tr>\n",
       "      <th>4495</th>\n",
       "      <td>0.157725</td>\n",
       "      <td>0.594385</td>\n",
       "      <td>0.830174</td>\n",
       "      <td>2</td>\n",
       "    </tr>\n",
       "    <tr>\n",
       "      <th>4496</th>\n",
       "      <td>0.586910</td>\n",
       "      <td>0.380445</td>\n",
       "      <td>0.136467</td>\n",
       "      <td>0</td>\n",
       "    </tr>\n",
       "    <tr>\n",
       "      <th>4497</th>\n",
       "      <td>0.909871</td>\n",
       "      <td>0.289448</td>\n",
       "      <td>0.070508</td>\n",
       "      <td>0</td>\n",
       "    </tr>\n",
       "    <tr>\n",
       "      <th>4498</th>\n",
       "      <td>0.567597</td>\n",
       "      <td>0.139400</td>\n",
       "      <td>0.254738</td>\n",
       "      <td>0</td>\n",
       "    </tr>\n",
       "    <tr>\n",
       "      <th>4499</th>\n",
       "      <td>0.672747</td>\n",
       "      <td>0.788964</td>\n",
       "      <td>0.534496</td>\n",
       "      <td>1</td>\n",
       "    </tr>\n",
       "  </tbody>\n",
       "</table>\n",
       "<p>4500 rows × 4 columns</p>\n",
       "</div>"
      ],
      "text/plain": [
       "      water_prc  elect_prc   tel_prc  district\n",
       "0      0.534335   0.620523  0.617892         1\n",
       "1      0.206009   0.320426  0.733131         2\n",
       "2      0.239270   0.751210  0.653525         1\n",
       "3      0.438841   0.775411  0.684610         1\n",
       "4      0.331545   0.656341  0.620925         1\n",
       "...         ...        ...       ...       ...\n",
       "4495   0.157725   0.594385  0.830174         2\n",
       "4496   0.586910   0.380445  0.136467         0\n",
       "4497   0.909871   0.289448  0.070508         0\n",
       "4498   0.567597   0.139400  0.254738         0\n",
       "4499   0.672747   0.788964  0.534496         1\n",
       "\n",
       "[4500 rows x 4 columns]"
      ]
     },
     "execution_count": 64,
     "metadata": {},
     "output_type": "execute_result"
    }
   ],
   "source": [
    "df"
   ]
  },
  {
   "cell_type": "code",
   "execution_count": 67,
   "metadata": {},
   "outputs": [],
   "source": [
    "def tr_ts(df, train_size = 0.8, test_size= 0.2):\n",
    "    \"\"\"_summary_\n",
    "\n",
    "    Args:\n",
    "        data (_type_): _description_\n",
    "        train_size (_type_): _description_\n",
    "        test_size (_type_): _description_\n",
    "        stratify (_type_): _description_\n",
    "    \"\"\"\n",
    "    from sklearn.model_selection import train_test_split\n",
    "    df = pd.read_csv('C:/Users/miki/Desktop/VSML/cluster-machine-learning/data/interim/interim.csv')\n",
    "    df = df.rename({'0':'water_prc', '1':'elect_prc', '2':'tel_prc', '0.1':'district'}, axis = 1)\n",
    "    X = df.drop(['district'], axis = 1)\n",
    "    y = df['district']\n",
    "    X_train, X_test, y_train, y_test = train_test_split(X, y, train_size= train_size, test_size = test_size,\n",
    "                                                        stratify = y, random_state = 42)\n",
    "    dtrain = pd.concat([pd.DataFrame(X_train), pd.DataFrame(y_train)], axis = 1, join = 'inner')\n",
    "    dtest = pd.concat([pd.DataFrame(X_test), pd.DataFrame(y_test)], axis = 1, join = 'inner')\n",
    "    train = dtrain.to_csv('C:/Users/miki/Desktop/VSML/cluster-machine-learning/data/processed/train.csv', index = False)\n",
    "    test = dtest.to_csv('C:/Users/miki/Desktop/VSML/cluster-machine-learning/data/processed/test.csv', index = False)\n",
    "    return train, test"
   ]
  },
  {
   "cell_type": "code",
   "execution_count": 68,
   "metadata": {},
   "outputs": [
    {
     "data": {
      "text/plain": [
       "(None, None)"
      ]
     },
     "execution_count": 68,
     "metadata": {},
     "output_type": "execute_result"
    }
   ],
   "source": [
    "tr_ts(df, train_size = 0.8, test_size= 0.2)"
   ]
  },
  {
   "cell_type": "code",
   "execution_count": null,
   "metadata": {},
   "outputs": [],
   "source": [
    "def draw_vector(v0, v1, ax=None):\n",
    "    ax = ax or plt.gca()\n",
    "    arrowprops=dict(arrowstyle='->',\n",
    "                    linewidth=2,\n",
    "                    color=\"red\",\n",
    "                    shrinkA=0, shrinkB=0)\n",
    "    ax.annotate('', v1, v0, arrowprops=arrowprops)\n",
    "\n",
    "# plot data\n",
    "plt.scatter(X[:, 0], X[:, 1], alpha=0.6)\n",
    "for length, vector in zip(pca.explained_variance_, pca.components_):\n",
    "    v = vector * 3 * np.sqrt(length)\n",
    "    draw_vector(pca.mean_, pca.mean_ + v)\n",
    "plt.axis('equal');"
   ]
  },
  {
   "cell_type": "code",
   "execution_count": 27,
   "metadata": {},
   "outputs": [],
   "source": [
    "# first decide the number of pca components\n",
    "# then do dimensionality reductiion \n",
    "# fitting and plotting of biplot\n",
    "# deciding the number of cluster by using wcss\n",
    "# pipeline creation for kmeans\n",
    "# \n",
    "d = pd.read_csv(\"C:/Users/miki/Desktop/VSML/cluster-machine-learning/data/processed/train.csv\")\n",
    "from sklearn.cluster import KMeans\n",
    "def wccs(df, n_init = 10, plot=True):\n",
    "    wcss = []\n",
    "    for i in range(1, 10):\n",
    "        km = KMeans(n_clusters=i,init='k-means++', max_iter=300, n_init=n_init, random_state=0)\n",
    "        km.fit(df)\n",
    "        wcss.append(km.inertia_)\n",
    "    k = [i*100 for i in np.diff(wcss,2)].index(min([i*100 for i in np.diff(wcss,2)]))   \n",
    "    if plot:\n",
    "        fig, ax = plt.subplots()\n",
    "        ax.plot(range(1, len(wcss)+1), wcss)\n",
    "        ax.axvline(k, ls='--', color=\"red\", label=\"k = \"+str(k))\n",
    "        ax.set(title='The Elbow Method', xlabel='Number of clusters', ylabel=\"Distortion\")\n",
    "        ax.legend()\n",
    "        ax.grid(True)\n",
    "        plt.show()\n",
    "    return k"
   ]
  },
  {
   "cell_type": "code",
   "execution_count": 29,
   "metadata": {},
   "outputs": [
    {
     "data": {
      "text/html": [
       "<div>\n",
       "<style scoped>\n",
       "    .dataframe tbody tr th:only-of-type {\n",
       "        vertical-align: middle;\n",
       "    }\n",
       "\n",
       "    .dataframe tbody tr th {\n",
       "        vertical-align: top;\n",
       "    }\n",
       "\n",
       "    .dataframe thead th {\n",
       "        text-align: right;\n",
       "    }\n",
       "</style>\n",
       "<table border=\"1\" class=\"dataframe\">\n",
       "  <thead>\n",
       "    <tr style=\"text-align: right;\">\n",
       "      <th></th>\n",
       "      <th>water_prc</th>\n",
       "      <th>elect_prc</th>\n",
       "      <th>tel_prc</th>\n",
       "    </tr>\n",
       "  </thead>\n",
       "  <tbody>\n",
       "    <tr>\n",
       "      <th>0</th>\n",
       "      <td>0.094421</td>\n",
       "      <td>0.492740</td>\n",
       "      <td>0.583776</td>\n",
       "    </tr>\n",
       "    <tr>\n",
       "      <th>1</th>\n",
       "      <td>0.464592</td>\n",
       "      <td>0.311713</td>\n",
       "      <td>0.194086</td>\n",
       "    </tr>\n",
       "    <tr>\n",
       "      <th>2</th>\n",
       "      <td>0.850858</td>\n",
       "      <td>0.232333</td>\n",
       "      <td>0.142532</td>\n",
       "    </tr>\n",
       "    <tr>\n",
       "      <th>3</th>\n",
       "      <td>0.199571</td>\n",
       "      <td>0.408519</td>\n",
       "      <td>0.650493</td>\n",
       "    </tr>\n",
       "    <tr>\n",
       "      <th>4</th>\n",
       "      <td>0.347639</td>\n",
       "      <td>0.662149</td>\n",
       "      <td>0.680061</td>\n",
       "    </tr>\n",
       "    <tr>\n",
       "      <th>...</th>\n",
       "      <td>...</td>\n",
       "      <td>...</td>\n",
       "      <td>...</td>\n",
       "    </tr>\n",
       "    <tr>\n",
       "      <th>3595</th>\n",
       "      <td>0.500000</td>\n",
       "      <td>0.683446</td>\n",
       "      <td>0.687642</td>\n",
       "    </tr>\n",
       "    <tr>\n",
       "      <th>3596</th>\n",
       "      <td>0.353004</td>\n",
       "      <td>0.438529</td>\n",
       "      <td>0.704321</td>\n",
       "    </tr>\n",
       "    <tr>\n",
       "      <th>3597</th>\n",
       "      <td>0.613734</td>\n",
       "      <td>0.228461</td>\n",
       "      <td>0.251706</td>\n",
       "    </tr>\n",
       "    <tr>\n",
       "      <th>3598</th>\n",
       "      <td>0.135193</td>\n",
       "      <td>0.606970</td>\n",
       "      <td>0.667172</td>\n",
       "    </tr>\n",
       "    <tr>\n",
       "      <th>3599</th>\n",
       "      <td>0.630901</td>\n",
       "      <td>0.221684</td>\n",
       "      <td>0.131918</td>\n",
       "    </tr>\n",
       "  </tbody>\n",
       "</table>\n",
       "<p>3600 rows × 3 columns</p>\n",
       "</div>"
      ],
      "text/plain": [
       "      water_prc  elect_prc   tel_prc\n",
       "0      0.094421   0.492740  0.583776\n",
       "1      0.464592   0.311713  0.194086\n",
       "2      0.850858   0.232333  0.142532\n",
       "3      0.199571   0.408519  0.650493\n",
       "4      0.347639   0.662149  0.680061\n",
       "...         ...        ...       ...\n",
       "3595   0.500000   0.683446  0.687642\n",
       "3596   0.353004   0.438529  0.704321\n",
       "3597   0.613734   0.228461  0.251706\n",
       "3598   0.135193   0.606970  0.667172\n",
       "3599   0.630901   0.221684  0.131918\n",
       "\n",
       "[3600 rows x 3 columns]"
      ]
     },
     "execution_count": 29,
     "metadata": {},
     "output_type": "execute_result"
    }
   ],
   "source": [
    "d = d.drop(['district'], axis = 1)\n",
    "d"
   ]
  },
  {
   "cell_type": "code",
   "execution_count": 30,
   "metadata": {},
   "outputs": [
    {
     "data": {
      "image/png": "[encoded data removed]",
      "text/plain": [
       "<Figure size 432x288 with 1 Axes>"
      ]
     },
     "metadata": {
      "needs_background": "light"
     },
     "output_type": "display_data"
    },
    {
     "data": {
      "text/plain": [
       "3"
      ]
     },
     "execution_count": 30,
     "metadata": {},
     "output_type": "execute_result"
    }
   ],
   "source": [
    "wccs(d)"
   ]
  },
  {
   "cell_type": "code",
   "execution_count": 34,
   "metadata": {},
   "outputs": [],
   "source": [
    "def kmeans_pipe(k, component):\n",
    "    \"\"\"\"\"\"\n",
    "    from sklearn.preprocessing import MinMaxScaler\n",
    "    from sklearn.decomposition import PCA\n",
    "    from sklearn.pipeline import Pipeline\n",
    "    preprocessor = Pipeline([('scaler', MinMaxScaler()), (\"pca\", PCA(n_components=component, random_state=42)),])\n",
    "    clusterer = Pipeline([('kmeans', KMeans(n_clusters=k,init='k-means++', max_iter=300, n_init= 500, random_state=42,),),])\n",
    "    return ((Pipeline([('preprocessor', preprocessor), ('clusterer', clusterer)])))"
   ]
  },
  {
   "cell_type": "code",
   "execution_count": 36,
   "metadata": {},
   "outputs": [],
   "source": [
    "pipe = kmeans_pipe(3, 2)"
   ]
  },
  {
   "cell_type": "code",
   "execution_count": 37,
   "metadata": {},
   "outputs": [
    {
     "data": {
      "text/plain": [
       "Pipeline(steps=[('preprocessor',\n",
       "                 Pipeline(steps=[('scaler', MinMaxScaler()),\n",
       "                                 ('pca',\n",
       "                                  PCA(n_components=2, random_state=42))])),\n",
       "                ('clusterer',\n",
       "                 Pipeline(steps=[('kmeans',\n",
       "                                  KMeans(n_clusters=3, n_init=500,\n",
       "                                         random_state=42))]))])"
      ]
     },
     "execution_count": 37,
     "metadata": {},
     "output_type": "execute_result"
    }
   ],
   "source": [
    "pipe"
   ]
  },
  {
   "cell_type": "code",
   "execution_count": null,
   "metadata": {},
   "outputs": [],
   "source": [
    "from sklearn.model_selection import train_test_split\n",
    "from sklearn.preprocessing import LabelEncoder, MinMaxScaler"
   ]
  },
  {
   "cell_type": "code",
   "execution_count": null,
   "metadata": {},
   "outputs": [],
   "source": [
    "# def csv_reader(file_name):\n",
    "#     file = open(file_name)\n",
    "#     result = file.read().split(\"\\n\")\n",
    "#     return result\n",
    "\"\"\"import os\n",
    "\n",
    "for i in range(n):\n",
    "    # makeadir() evaluates your condition\n",
    "    if makeadir(i):\n",
    "        path = 'folder {}'.format(i)\n",
    "        if not os.path.exists(path):\n",
    "            os.mkdir(path)\"\"\"\n",
    "\"\"\"import os\n",
    "\n",
    "condition_success = 0 # set initial 0 \n",
    "while True:\n",
    "    condition_success += 1 # get counter for condition to increment if condition is true:\n",
    "    # By default this will create folder within same directory\n",
    "    os.makedirs(\"folder\"+str(condition_success))\"\"\"\n",
    "\n",
    "def scatter_images():\n",
    "    img = 0\n",
    "    while True:\n",
    "        yield (img)\n",
    "        img += 1\n",
    "        OutPutPath= Path(\"C:/Users/miki/Desktop/VSML/cluster-machine-learning/reports/figures/\") \n",
    "        scatterPath = str(img.png)\n",
    "        file = Path.joinpath(OutPutPath, scatterPath)\n",
    "        return open(file, 'wb').write(file.content)\n",
    "\n",
    "        if not OutPutPath.exists():\n",
    "            r = OutPutPath.touch(url, allow_redirects=True)\n",
    "            open(OutPutPath, 'wb').write(r.content)\n",
    "            print(f'File Created: {OutPutPath.name}')\n",
    "        else:\n",
    "            print('File Exists')"
   ]
  },
  {
   "cell_type": "code",
   "execution_count": null,
   "metadata": {},
   "outputs": [],
   "source": [
    "df = pd.read_csv('C:/Users/miki/Desktop/VSML/cluster-machine-learning/data/interim/interim.csv')"
   ]
  },
  {
   "cell_type": "code",
   "execution_count": null,
   "metadata": {},
   "outputs": [
    {
     "data": {
      "text/html": [
       "<div>\n",
       "<style scoped>\n",
       "    .dataframe tbody tr th:only-of-type {\n",
       "        vertical-align: middle;\n",
       "    }\n",
       "\n",
       "    .dataframe tbody tr th {\n",
       "        vertical-align: top;\n",
       "    }\n",
       "\n",
       "    .dataframe thead th {\n",
       "        text-align: right;\n",
       "    }\n",
       "</style>\n",
       "<table border=\"1\" class=\"dataframe\">\n",
       "  <thead>\n",
       "    <tr style=\"text-align: right;\">\n",
       "      <th></th>\n",
       "      <th>country</th>\n",
       "      <th>IS</th>\n",
       "      <th>IU_Per100</th>\n",
       "      <th>MCS_Per100</th>\n",
       "      <th>TEG</th>\n",
       "    </tr>\n",
       "  </thead>\n",
       "  <tbody>\n",
       "    <tr>\n",
       "      <th>0</th>\n",
       "      <td>Burundi</td>\n",
       "      <td>0.0</td>\n",
       "      <td>5.0</td>\n",
       "      <td>122.0</td>\n",
       "      <td>2122.0</td>\n",
       "    </tr>\n",
       "    <tr>\n",
       "      <th>1</th>\n",
       "      <td>Comoros</td>\n",
       "      <td>0.0</td>\n",
       "      <td>29.0</td>\n",
       "      <td>188.0</td>\n",
       "      <td>654.0</td>\n",
       "    </tr>\n",
       "    <tr>\n",
       "      <th>2</th>\n",
       "      <td>Djibouti</td>\n",
       "      <td>11875.0</td>\n",
       "      <td>39.0</td>\n",
       "      <td>123.0</td>\n",
       "      <td>3927.0</td>\n",
       "    </tr>\n",
       "    <tr>\n",
       "      <th>3</th>\n",
       "      <td>Eritrea</td>\n",
       "      <td>7100.0</td>\n",
       "      <td>4.0</td>\n",
       "      <td>43.0</td>\n",
       "      <td>3967.0</td>\n",
       "    </tr>\n",
       "    <tr>\n",
       "      <th>4</th>\n",
       "      <td>Ethiopia</td>\n",
       "      <td>72422.0</td>\n",
       "      <td>5.0</td>\n",
       "      <td>101.0</td>\n",
       "      <td>90889.0</td>\n",
       "    </tr>\n",
       "    <tr>\n",
       "      <th>5</th>\n",
       "      <td>Kenya</td>\n",
       "      <td>12216.0</td>\n",
       "      <td>147.0</td>\n",
       "      <td>334.0</td>\n",
       "      <td>93074.0</td>\n",
       "    </tr>\n",
       "    <tr>\n",
       "      <th>6</th>\n",
       "      <td>Rwanda</td>\n",
       "      <td>16731.0</td>\n",
       "      <td>42.0</td>\n",
       "      <td>261.0</td>\n",
       "      <td>4710.0</td>\n",
       "    </tr>\n",
       "    <tr>\n",
       "      <th>7</th>\n",
       "      <td>Seychelles</td>\n",
       "      <td>7920.0</td>\n",
       "      <td>225.0</td>\n",
       "      <td>718.0</td>\n",
       "      <td>4262.0</td>\n",
       "    </tr>\n",
       "    <tr>\n",
       "      <th>8</th>\n",
       "      <td>Somalia</td>\n",
       "      <td>0.0</td>\n",
       "      <td>3.0</td>\n",
       "      <td>116.0</td>\n",
       "      <td>3706.0</td>\n",
       "    </tr>\n",
       "    <tr>\n",
       "      <th>9</th>\n",
       "      <td>South Sudan</td>\n",
       "      <td>0.0</td>\n",
       "      <td>39.0</td>\n",
       "      <td>109.0</td>\n",
       "      <td>3958.0</td>\n",
       "    </tr>\n",
       "    <tr>\n",
       "      <th>10</th>\n",
       "      <td>Sudan</td>\n",
       "      <td>0.0</td>\n",
       "      <td>104.0</td>\n",
       "      <td>345.0</td>\n",
       "      <td>125787.0</td>\n",
       "    </tr>\n",
       "    <tr>\n",
       "      <th>11</th>\n",
       "      <td>Tanzania</td>\n",
       "      <td>487256.0</td>\n",
       "      <td>18.0</td>\n",
       "      <td>279.0</td>\n",
       "      <td>64440.0</td>\n",
       "    </tr>\n",
       "    <tr>\n",
       "      <th>12</th>\n",
       "      <td>Uganda</td>\n",
       "      <td>134020.0</td>\n",
       "      <td>74.0</td>\n",
       "      <td>240.0</td>\n",
       "      <td>31743.0</td>\n",
       "    </tr>\n",
       "  </tbody>\n",
       "</table>\n",
       "</div>"
      ],
      "text/plain": [
       "        country        IS  IU_Per100  MCS_Per100       TEG\n",
       "0       Burundi       0.0        5.0       122.0    2122.0\n",
       "1       Comoros       0.0       29.0       188.0     654.0\n",
       "2      Djibouti   11875.0       39.0       123.0    3927.0\n",
       "3       Eritrea    7100.0        4.0        43.0    3967.0\n",
       "4      Ethiopia   72422.0        5.0       101.0   90889.0\n",
       "5         Kenya   12216.0      147.0       334.0   93074.0\n",
       "6        Rwanda   16731.0       42.0       261.0    4710.0\n",
       "7    Seychelles    7920.0      225.0       718.0    4262.0\n",
       "8       Somalia       0.0        3.0       116.0    3706.0\n",
       "9   South Sudan       0.0       39.0       109.0    3958.0\n",
       "10        Sudan       0.0      104.0       345.0  125787.0\n",
       "11     Tanzania  487256.0       18.0       279.0   64440.0\n",
       "12       Uganda  134020.0       74.0       240.0   31743.0"
      ]
     },
     "execution_count": 6,
     "metadata": {},
     "output_type": "execute_result"
    }
   ],
   "source": [
    "df"
   ]
  },
  {
   "cell_type": "code",
   "execution_count": null,
   "metadata": {},
   "outputs": [],
   "source": [
    "def scatterplot(df, x: str, y: str, outPutPath: str = \".\"):\n",
    "    \"\"\" Function to create the scatter plot for our dataframe including the\n",
    "    directory to save the images from the outputs of scatter function  \n",
    "    =============================================================\n",
    "    ARGUMENTS\n",
    "    =============================================================\n",
    "    df ([type]): our input dataframe \n",
    "    x (str): the featrure in the x axis\n",
    "    y (str): the feature in the y axis\n",
    "    outPutPath (str): our output directory\n",
    "    =============================================================\n",
    "    RETURNS: the saved scatterplot images in our working environment\n",
    "    =============================================================\n",
    "    \"\"\"\n",
    "    if not os.path.exists(outPutPath):\n",
    "        os.makedirs(outPutPath)\n",
    "    else:\n",
    "        print(\"Directory already exists\")\n",
    "    Scatter = (\"C:/Users/miki/Desktop/VSML/cluster-machine-learning/reports/figures/ScatterPlots\")\n",
    "    outPuts = os.path.join(outPutPath, Scatter)\n",
    "    fig, ax = plt.subplots(figsize= (14, 9))\n",
    "    graph = sns.scatterplot(ax=ax, x=x, y=y, data=df, s=325, alpha=0.5, hue=\"country\")\n",
    "    box = ax.get_position()\n",
    "    plt.legend(markerscale=2)\n",
    "    img = os.path.join(outPuts, \"{}v{}.png\".format(x, y))\n",
    "    plt.savefig(img)\n",
    "    plt.show()\n",
    "    return img"
   ]
  },
  {
   "cell_type": "code",
   "execution_count": null,
   "metadata": {},
   "outputs": [
    {
     "data": {
      "image/png": "[encoded data removed]",
      "text/plain": [
       "<Figure size 1008x648 with 1 Axes>"
      ]
     },
     "metadata": {
      "needs_background": "light"
     },
     "output_type": "display_data"
    },
    {
     "data": {
      "text/plain": [
       "'C:/Users/miki/Desktop/VSML/cluster-machine-learning/reports/figures/ScatterPlots\\\\IU_Per100vMCS_Per100.png'"
      ]
     },
     "execution_count": 22,
     "metadata": {},
     "output_type": "execute_result"
    }
   ],
   "source": [
    "scatterplot(df, x='IU_Per100',y ='MCS_Per100', outPutPath=(\"C:/Users/miki/Desktop/VSML/cluster-machine-learning/reports/figures/ScatterPlots\") )"
   ]
  },
  {
   "cell_type": "code",
   "execution_count": null,
   "metadata": {},
   "outputs": [],
   "source": [
    "def histogram(df, x, outPutPath: str = \".\"):\n",
    "    \"\"\" \n",
    "    Function to create the summary statistics histogram plots for \n",
    "    our input dataframe and save the results into the figure output\n",
    "    paths\n",
    "    Args:\n",
    "        df(dataframe): input data\n",
    "        x (int or float): Dataframe features\n",
    "        outPutPath (str): _description_\n",
    "    return:\n",
    "        Histogram plot\n",
    "    \"\"\"\n",
    "    \n",
    "    HistoGramPlot = (\"C:/Users/miki/Desktop/VSML/cluster-machine-learning/reports/figures/HistoGram\")\n",
    "    if not os.path.exists(outPutPath):\n",
    "        os.makedirs(outPutPath)\n",
    "    else:\n",
    "        print(\"Directory already exists\")\n",
    "    result = os.path.join(outPutPath, HistoGramPlot)\n",
    "    if x.dtype == 'int64' or x.dtype == 'float64':\n",
    "        output = sns.displot(data=df, x=x, bins = 10, kind='hist',hue_norm=None, kde = True, color=None, col_wrap=None,height=5, aspect=1, facet_kws=None)\n",
    "        y = plt.ylabel('Frequency', size = 17)\n",
    "        plt.grid = False\n",
    "        plt.xticks(size = 17)\n",
    "        plt.yticks(size = 17)\n",
    "        plt.title(x.name, size = 19) \n",
    "        img = os.path.join(result, \"{}v{}.png\".format(x, y))\n",
    "        plt.savefig('C:/Users/miki/Desktop/VSML/cluster-machine-learning/reports/figures/HistoGramPlot/img.png')\n",
    "        return img"
   ]
  },
  {
   "cell_type": "code",
   "execution_count": null,
   "metadata": {},
   "outputs": [
    {
     "name": "stdout",
     "output_type": "stream",
     "text": [
      "Directory already exists\n"
     ]
    },
    {
     "data": {
      "text/plain": [
       "\"C:/Users/miki/Desktop/VSML/cluster-machine-learning/reports/figures/HistoGram\\\\0     122.0\\n1     188.0\\n2     123.0\\n3      43.0\\n4     101.0\\n5     334.0\\n6     261.0\\n7     718.0\\n8     116.0\\n9     109.0\\n10    345.0\\n11    279.0\\n12    240.0\\nName: MCS_Per100, dtype: float64vText(6.674999999999997, 0.5, 'Frequency').png\""
      ]
     },
     "execution_count": 64,
     "metadata": {},
     "output_type": "execute_result"
    },
    {
     "data": {
      "image/png": "[encoded data removed]",
      "text/plain": [
       "<Figure size 360x360 with 1 Axes>"
      ]
     },
     "metadata": {
      "needs_background": "light"
     },
     "output_type": "display_data"
    }
   ],
   "source": [
    "histogram(df, df['MCS_Per100'], outPutPath=(\"C:/Users/miki/Desktop/VSML/cluster-machine-learning/reports/figures/HistoGramPlot\"))"
   ]
  },
  {
   "cell_type": "code",
   "execution_count": null,
   "metadata": {},
   "outputs": [],
   "source": [
    "def pairplot(data, OutPutPath: str = '.'):\n",
    "    \"\"\"Function to create the scatter plot for the comparison of \n",
    "    numerical variables with that of non numerical categorical variables\n",
    "    and we use the nominal variable as hue to so as to depict the difference\n",
    "    between countries in indicators \n",
    "\n",
    "    Args:\n",
    "        data (pandas dataframe): _description_\n",
    "    \"\"\"\n",
    "    if not os.path.exists(OutPutPath):\n",
    "        os.makedirs(OutPutPath)\n",
    "    else:\n",
    "        print(\"Directory already exists\")\n",
    "    PairPlot = (\"C:/Users/miki/Desktop/VSML/cluster-machine-learning/reports/figures/PairPlots\")\n",
    "    outputs = os.path.join(OutPutPath, PairPlot)\n",
    "    graph = sns.pairplot(data = df,  x_vars=[\"IS\", \"IU_Per100\", \"MCS_Per100\", \"TEG\"],\n",
    "                         y_vars=[\"IS\", \"IU_Per100\", \"MCS_Per100\", \"TEG\"], hue=\"country\", kind = 'scatter')\n",
    "    fig = os.path.join(outputs, \"{}.png\".format(graph))\n",
    "    graph.figure.savefig(\"C:/Users/miki/Desktop/VSML/cluster-machine-learning/reports/figures/PairPlots/pairplot.png\")\n",
    "    return fig"
   ]
  }
 ],
 "metadata": {
  "interpreter": {
   "hash": "e188ef1972eb8512402948d9823281cc1dd90f540b22c2702db46ea022649d80"
  },
  "kernelspec": {
   "display_name": "Python 3.9.7 64-bit (system)",
   "language": "python",
   "name": "python3"
  },
  "language_info": {
   "codemirror_mode": {
    "name": "ipython",
    "version": 3
   },
   "file_extension": ".py",
   "mimetype": "text/x-python",
   "name": "python",
   "nbconvert_exporter": "python",
   "pygments_lexer": "ipython3",
   "version": "3.9.7"
  },
  "orig_nbformat": 4
 },
 "nbformat": 4,
 "nbformat_minor": 2
}
